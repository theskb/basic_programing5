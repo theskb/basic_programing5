{
 "cells": [
  {
   "cell_type": "code",
   "execution_count": null,
   "metadata": {},
   "outputs": [],
   "source": [
    "#Q1.Write a Python Program to Find LCM?"
   ]
  },
  {
   "cell_type": "code",
   "execution_count": 1,
   "metadata": {},
   "outputs": [
    {
     "name": "stdout",
     "output_type": "stream",
     "text": [
      "Enter first number 10\n",
      "Enter second number 25\n",
      "LCM of 10 and 25 is 50\n"
     ]
    }
   ],
   "source": [
    "#lcm for two number\n",
    "x=int(input(\"Enter first number \"))\n",
    "y=int(input(\"Enter second number \"))\n",
    "if x>y:\n",
    "    big=x\n",
    "else:\n",
    "    big=y\n",
    "while(True):\n",
    "    if big%x==0 and big%y==0:\n",
    "        lcm=big\n",
    "        break\n",
    "    big+=1\n",
    "print(\"LCM of {} and {} is {}\".format(x,y,lcm))"
   ]
  },
  {
   "cell_type": "code",
   "execution_count": null,
   "metadata": {},
   "outputs": [],
   "source": [
    "#Q2.Write a Python Program to Find HCF?"
   ]
  },
  {
   "cell_type": "code",
   "execution_count": 3,
   "metadata": {},
   "outputs": [
    {
     "name": "stdout",
     "output_type": "stream",
     "text": [
      "Enter first number 12\n",
      "Enter second number 7\n",
      "The hcf of two number is 1\n"
     ]
    }
   ],
   "source": [
    "x=int(input(\"Enter first number \"))\n",
    "y=int(input(\"Enter second number \"))\n",
    "\n",
    "if(x>y):\n",
    "    small=y\n",
    "else:\n",
    "    small= x\n",
    "for i in range(1,small+1):\n",
    "    if x%i==0 and y%i==0:\n",
    "        hcf=i\n",
    "print(\"The hcf of two number is\",hcf)"
   ]
  },
  {
   "cell_type": "code",
   "execution_count": null,
   "metadata": {},
   "outputs": [],
   "source": [
    "#Q3.Write a Python Program to Convert Decimal to Binary, Octal and Hexadecimal?"
   ]
  },
  {
   "cell_type": "code",
   "execution_count": 4,
   "metadata": {},
   "outputs": [
    {
     "name": "stdout",
     "output_type": "stream",
     "text": [
      "Enter number :33\n",
      "33 in binary. 0b100001\n",
      "33 in octal 0o41\n",
      "33 in hexadecimal 0x21\n"
     ]
    }
   ],
   "source": [
    "x=int(input(\"Enter number :\"))\n",
    "print(x,\"in binary.\",bin(x))\n",
    "print(x,\"in octal\",oct(x))\n",
    "print(x,\"in hexadecimal\",hex(x))"
   ]
  },
  {
   "cell_type": "code",
   "execution_count": null,
   "metadata": {},
   "outputs": [],
   "source": [
    "#Q4.Write a Python Program To Find ASCII value of a character?"
   ]
  },
  {
   "cell_type": "code",
   "execution_count": 3,
   "metadata": {},
   "outputs": [
    {
     "name": "stdout",
     "output_type": "stream",
     "text": [
      "Enter a character :p\n",
      "ASCII value of 'p' is 112\n"
     ]
    }
   ],
   "source": [
    "x=input(\"Enter a character :\")\n",
    "\n",
    "print(\"ASCII value of '{}' is {}\".format(x,ord(x)))"
   ]
  },
  {
   "cell_type": "code",
   "execution_count": null,
   "metadata": {},
   "outputs": [],
   "source": [
    "#Q5.Write a Python Program to Make a Simple Calculator with 4 basic mathematical operations?"
   ]
  },
  {
   "cell_type": "code",
   "execution_count": 5,
   "metadata": {},
   "outputs": [
    {
     "name": "stdout",
     "output_type": "stream",
     "text": [
      "Enter num1 :5\n",
      "Enter num2 :0\n",
      "Enter mathematical operator '+' or '-'or '/' or '*'/\n",
      "Division wit zero is not possible.\n"
     ]
    }
   ],
   "source": [
    "x=int(input(\"Enter num1 :\"))\n",
    "y=int(input(\"Enter num2 :\"))\n",
    "\n",
    "op=input(\"Enter mathematical operator '+' or '-'or '/' or '*'\")\n",
    "\n",
    "if op =='+':\n",
    "    add=x+y\n",
    "    print(\"{} + {} ={}\".format(x,y,add))\n",
    "    \n",
    "elif op == '-':\n",
    "    sub = x-y\n",
    "    print(\"{} + {} ={}\".format(x,y,sub))\n",
    "    \n",
    "elif op =='*':\n",
    "    mul=x*y\n",
    "    print(\"{} + {} ={}\".format(x,y,mul))\n",
    "    \n",
    "elif op == '/':\n",
    "    if y==0:\n",
    "        print(\"Division wit zero is not possible.\")\n",
    "    else:\n",
    "        div=x/y\n",
    "        print(\"{} + {} ={}\".format(x,y,div))\n",
    "else:\n",
    "    print(\"Invalid input\")\n",
    "    \n",
    "    "
   ]
  },
  {
   "cell_type": "code",
   "execution_count": null,
   "metadata": {},
   "outputs": [],
   "source": []
  },
  {
   "cell_type": "code",
   "execution_count": null,
   "metadata": {},
   "outputs": [],
   "source": []
  }
 ],
 "metadata": {
  "kernelspec": {
   "display_name": "Python 3",
   "language": "python",
   "name": "python3"
  },
  "language_info": {
   "codemirror_mode": {
    "name": "ipython",
    "version": 3
   },
   "file_extension": ".py",
   "mimetype": "text/x-python",
   "name": "python",
   "nbconvert_exporter": "python",
   "pygments_lexer": "ipython3",
   "version": "3.8.5"
  }
 },
 "nbformat": 4,
 "nbformat_minor": 4
}
